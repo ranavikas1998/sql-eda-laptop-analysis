{
 "cells": [
  {
   "cell_type": "code",
   "execution_count": 2,
   "id": "532af832-1574-4daa-a763-38279856aea3",
   "metadata": {},
   "outputs": [
    {
     "name": "stdout",
     "output_type": "stream",
     "text": [
      "Defaulting to user installation because normal site-packages is not writeable\n",
      "Requirement already satisfied: pyodbc in c:\\programdata\\anaconda3\\lib\\site-packages (5.2.0)\n",
      "Note: you may need to restart the kernel to use updated packages.\n"
     ]
    }
   ],
   "source": [
    "pip install pyodbc"
   ]
  },
  {
   "cell_type": "code",
   "execution_count": 3,
   "id": "91105dc8-11a0-4ef2-93b1-d6403b134434",
   "metadata": {},
   "outputs": [
    {
     "data": {
      "text/plain": [
       "85"
      ]
     },
     "execution_count": 3,
     "metadata": {},
     "output_type": "execute_result"
    }
   ],
   "source": [
    "from sqlalchemy import create_engine\n",
    "import pandas as pd\n",
    "import pyodbc\n",
    "\n",
    "# Load CSV\n",
    "df = pd.read_csv(\"C:\\\\Users\\\\acer\\\\PycharmProjects\\\\Data Cleaning using sql Laptop Dataset\\\\laptopData.csv\")\n",
    "\n",
    "# Create SQLAlchemy engine\n",
    "engine = create_engine(\n",
    "    \"mssql+pyodbc://DESKTOP-A4VIG2K\\\\SQLEXPRESS/indigo?driver=ODBC+Driver+17+for+SQL+Server&trusted_connection=yes\"\n",
    ")\n",
    "\n",
    "# Push dataframe to SQL Server\n",
    "df.to_sql(\"newtable\", engine, if_exists=\"append\", index=False)\n"
   ]
  },
  {
   "cell_type": "code",
   "execution_count": 4,
   "id": "14935aa1-aa07-4086-93a2-7d8873a56621",
   "metadata": {},
   "outputs": [
    {
     "name": "stdout",
     "output_type": "stream",
     "text": [
      "       \n",
      "0  1303\n"
     ]
    }
   ],
   "source": [
    "result = pd.read_sql(\"SELECT COUNT(*) FROM newtable\", engine)\n",
    "print(result)\n"
   ]
  },
  {
   "cell_type": "code",
   "execution_count": null,
   "id": "be9062f8-9b9b-4c84-b1b9-4506f1bdfa38",
   "metadata": {},
   "outputs": [],
   "source": [
    "#  all time create new database and in\n",
    "\n",
    "\n",
    "from sqlalchemy import create_engine\n",
    "import pandas as pd\n",
    "import pyodbc\n",
    "\n",
    "# Load CSV (Excel भी use कर सकते हो read_excel से)\n",
    "df = pd.read_csv(r\"C:\\Users\\acer\\PycharmProjects\\Data Cleaning using sql Laptop Dataset\\laptopData.csv\")\n",
    "\n",
    "# SQLAlchemy Engine बनाओ\n",
    "engine = create_engine(\n",
    "    \"mssql+pyodbc://DESKTOP-A4VIG2K\\\\SQLEXPRESS/indigo?driver=ODBC+Driver+17+for+SQL+Server&trusted_connection=yes\"\n",
    ")\n",
    "\n",
    "# हर बार unique table name दो\n",
    "table_name = \"laptop_table_\" + pd.Timestamp.now().strftime(\"%Y%m%d_%H%M%S\")\n",
    "\n",
    "# Data SQL Server में push करो (new table create होगा)\n",
    "df.to_sql(table_name, engine, if_exists=\"fail\", index=False)\n",
    "\n",
    "print(f\"✅ New table '{table_name}' created successfully in database!\")\n"
   ]
  }
 ],
 "metadata": {
  "kernelspec": {
   "display_name": "Python 3 (ipykernel)",
   "language": "python",
   "name": "python3"
  },
  "language_info": {
   "codemirror_mode": {
    "name": "ipython",
    "version": 3
   },
   "file_extension": ".py",
   "mimetype": "text/x-python",
   "name": "python",
   "nbconvert_exporter": "python",
   "pygments_lexer": "ipython3",
   "version": "3.13.5"
  }
 },
 "nbformat": 4,
 "nbformat_minor": 5
}
